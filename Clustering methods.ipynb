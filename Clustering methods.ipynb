{
 "cells": [
  {
   "cell_type": "code",
   "execution_count": null,
   "metadata": {},
   "outputs": [],
   "source": [
    "import pandas as pd\n",
    "import numpy as np\n",
    "import matplotlib.pyplot as plt"
   ]
  },
  {
   "cell_type": "markdown",
   "metadata": {},
   "source": [
    "### KMeans Clustering"
   ]
  },
  {
   "cell_type": "code",
   "execution_count": 1,
   "metadata": {},
   "outputs": [],
   "source": [
    "def draw_elbow(X, clusters_list, params):\n",
    "    \n",
    "    \"\"\" Make elbow diagram for the optimum clustering \"\"\"\n",
    "    \n",
    "    from sklearn.cluster import KMeans\n",
    "    plt.style.use('seaborn')\n",
    "    wcss = []\n",
    "    for cluster in clusters_list:\n",
    "        kmeans = KMeans(n_clusters = cluster, **params)\n",
    "        kmeans.fit(X)\n",
    "        wcss.append(kmeans.inertia_)\n",
    "    \n",
    "    fig, axes = plt.subplots(figsize = (15,8))\n",
    "    axes.plot(clusters_list, wcss)\n",
    "    axes.set_title(\"Elbow Method\")\n",
    "    axes.set_xlabel(\"Number of Clusters\")\n",
    "    axes.set_ylabel(\"WCSS\")"
   ]
  },
  {
   "cell_type": "code",
   "execution_count": 2,
   "metadata": {},
   "outputs": [],
   "source": [
    "def predict_labels_KMeans(X, clusters, params):\n",
    "    \n",
    "    \"\"\" predict labels for the KMeans\"\"\"\n",
    "    \n",
    "    from sklearn.cluster import KMeans\n",
    "    kmeans = KMeans(n_clusters = clusters, **params)\n",
    "    y_kmeans = kmeans.fit_predict(X)\n",
    "    \n",
    "    return y_kmeans"
   ]
  },
  {
   "cell_type": "markdown",
   "metadata": {},
   "source": [
    "### Hierarchial Clustering"
   ]
  },
  {
   "cell_type": "code",
   "execution_count": null,
   "metadata": {},
   "outputs": [],
   "source": [
    "def Heirarchical_maker(X):\n",
    "    import scipy.cluster.hierarchy as sch\n",
    "    fig, axes = plt.subplots(figsize = (15,8))\n",
    "#     plt.style.use('seaborn')\n",
    "    \n",
    "    dendrogram = sch.dendrogram(sch.linkage(X, method = 'ward'))\n",
    "    axes.set_title('Dendrogram')\n",
    "    axes.set_xlabel('Observations')\n",
    "    axes.set_ylabel('Euclidean distances')\n",
    "    plt.show()"
   ]
  },
  {
   "cell_type": "code",
   "execution_count": null,
   "metadata": {},
   "outputs": [],
   "source": [
    "def label_maker_HC(X):\n",
    "    from sklearn.cluster import AgglomerativeClustering\n",
    "    hc = AgglomerativeClustering(n_clusters = 5, affinity = 'euclidean', linkage = 'ward')\n",
    "    y_hc = hc.fit_predict(X)\n",
    "    return y_hc"
   ]
  }
 ],
 "metadata": {
  "kernelspec": {
   "display_name": "Python 3",
   "language": "python",
   "name": "python3"
  },
  "language_info": {
   "codemirror_mode": {
    "name": "ipython",
    "version": 3
   },
   "file_extension": ".py",
   "mimetype": "text/x-python",
   "name": "python",
   "nbconvert_exporter": "python",
   "pygments_lexer": "ipython3",
   "version": "3.6.8"
  }
 },
 "nbformat": 4,
 "nbformat_minor": 2
}
